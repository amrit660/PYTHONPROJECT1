{
  "nbformat": 4,
  "nbformat_minor": 0,
  "metadata": {
    "colab": {
      "provenance": [],
      "authorship_tag": "ABX9TyO6oRJGOAakvQCqGkr8L8s1",
      "include_colab_link": true
    },
    "kernelspec": {
      "name": "python3",
      "display_name": "Python 3"
    },
    "language_info": {
      "name": "python"
    }
  },
  "cells": [
    {
      "cell_type": "markdown",
      "metadata": {
        "id": "view-in-github",
        "colab_type": "text"
      },
      "source": [
        "<a href=\"https://colab.research.google.com/github/amrit660/PYTHONPROJECT1/blob/main/clean_programme.ipynb\" target=\"_parent\"><img src=\"https://colab.research.google.com/assets/colab-badge.svg\" alt=\"Open In Colab\"/></a>"
      ]
    },
    {
      "cell_type": "code",
      "execution_count": 1,
      "metadata": {
        "colab": {
          "base_uri": "https://localhost:8080/"
        },
        "id": "E1nW1Iw4UH7R",
        "outputId": "f79586b0-ddf3-41ba-faa2-1119e0cedfcb"
      },
      "outputs": [
        {
          "output_type": "stream",
          "name": "stdout",
          "text": [
            "=== Shopping List Manager ===\n",
            "\n",
            "Menu:\n",
            "1. Add item\n",
            "2. View items\n",
            "3. Remove item\n",
            "4. Count items\n",
            "5. Exit\n",
            "Choose option: 1\n",
            "Enter item: orange\n",
            "'orange' added to list.\n",
            "\n",
            "Menu:\n",
            "1. Add item\n",
            "2. View items\n",
            "3. Remove item\n",
            "4. Count items\n",
            "5. Exit\n",
            "Choose option: 1\n",
            "Enter item: berry\n",
            "'berry' added to list.\n",
            "\n",
            "Menu:\n",
            "1. Add item\n",
            "2. View items\n",
            "3. Remove item\n",
            "4. Count items\n",
            "5. Exit\n",
            "Choose option: 2\n",
            "Current items:\n",
            "1. orange\n",
            "2. berry\n",
            "\n",
            "Menu:\n",
            "1. Add item\n",
            "2. View items\n",
            "3. Remove item\n",
            "4. Count items\n",
            "5. Exit\n",
            "Choose option: 3\n",
            "Enter item to remove: berry\n",
            "'berry' removed from list.\n",
            "\n",
            "Menu:\n",
            "1. Add item\n",
            "2. View items\n",
            "3. Remove item\n",
            "4. Count items\n",
            "5. Exit\n",
            "Choose option: 4\n",
            "Total items: 1\n",
            "\n",
            "Menu:\n",
            "1. Add item\n",
            "2. View items\n",
            "3. Remove item\n",
            "4. Count items\n",
            "5. Exit\n",
            "Choose option: 5\n",
            "Goodbye!\n"
          ]
        }
      ],
      "source": [
        "print(\"=== Shopping List Manager ===\")\n",
        "shopping_list = []\n",
        "\n",
        "user_choice = \"\"\n",
        "while user_choice != \"5\":\n",
        "    print(\"\\nMenu:\")\n",
        "    print(\"1. Add item\")\n",
        "    print(\"2. View items\")\n",
        "    print(\"3. Remove item\")\n",
        "    print(\"4. Count items\")\n",
        "    print(\"5. Exit\")\n",
        "\n",
        "    user_choice = input(\"Choose option: \").strip()\n",
        "\n",
        "    if user_choice == \"1\":\n",
        "        item = input(\"Enter item: \").strip()\n",
        "        shopping_list.append(item)\n",
        "        print(f\"'{item}' added to list.\")\n",
        "\n",
        "    elif user_choice == \"2\":\n",
        "        if shopping_list:\n",
        "            print(\"Current items:\")\n",
        "            for index, item in enumerate(shopping_list, start=1):\n",
        "                print(f\"{index}. {item}\")\n",
        "        else:\n",
        "            print(\"Your list is empty.\")\n",
        "\n",
        "    elif user_choice == \"3\":\n",
        "        item_to_remove = input(\"Enter item to remove: \").strip()\n",
        "        if item_to_remove in shopping_list:\n",
        "            shopping_list.remove(item_to_remove)\n",
        "            print(f\"'{item_to_remove}' removed from list.\")\n",
        "        else:\n",
        "            print(f\"'{item_to_remove}' not found.\")\n",
        "\n",
        "    elif user_choice == \"4\":\n",
        "        print(f\"Total items: {len(shopping_list)}\")\n",
        "\n",
        "    elif user_choice == \"5\":\n",
        "        print(\"Goodbye!\")\n",
        "\n",
        "    else:\n",
        "        print(\"Please enter a number from 1 to 5.\")\n"
      ]
    }
  ]
}