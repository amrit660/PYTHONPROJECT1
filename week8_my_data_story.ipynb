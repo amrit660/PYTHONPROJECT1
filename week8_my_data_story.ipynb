{
  "nbformat": 4,
  "nbformat_minor": 0,
  "metadata": {
    "colab": {
      "provenance": [],
      "authorship_tag": "ABX9TyOTwTdVPc2Ssbicv9g/Sqpy",
      "include_colab_link": true
    },
    "kernelspec": {
      "name": "python3",
      "display_name": "Python 3"
    },
    "language_info": {
      "name": "python"
    }
  },
  "cells": [
    {
      "cell_type": "markdown",
      "metadata": {
        "id": "view-in-github",
        "colab_type": "text"
      },
      "source": [
        "<a href=\"https://colab.research.google.com/github/amrit660/PYTHONPROJECT1/blob/main/week8_my_data_story.ipynb\" target=\"_parent\"><img src=\"https://colab.research.google.com/assets/colab-badge.svg\" alt=\"Open In Colab\"/></a>"
      ]
    },
    {
      "cell_type": "code",
      "execution_count": 1,
      "metadata": {
        "colab": {
          "base_uri": "https://localhost:8080/"
        },
        "id": "Cj--9MHtj1GU",
        "outputId": "d253812e-0cb2-43ac-f19f-4927560e7232"
      },
      "outputs": [
        {
          "output_type": "stream",
          "name": "stdout",
          "text": [
            "=== MY DATA STORY ===\n",
            "--- File Contents ---\n",
            "--- Yesterday's Schedule ---\n",
            "\n",
            "- 7:00 AM: Wake up and breakfast\n",
            "- 8:00 AM: Morning exercise\n",
            "- 9:00 AM: Attend lectures\n",
            "- 12:00 PM: Lunch\n",
            "- 1:00 PM: Study session\n",
            "- 3:00 PM: Team meeting\n",
            "- 5:00 PM: Work on assignment\n",
            "- 7:00 PM: Dinner\n",
            "- 8:00 PM: Relax and read\n",
            "- 10:00 PM: Sleep\n",
            "\n",
            "--- File Statistics ---\n",
            "Number of lines: 12\n",
            "Number of words: 55\n"
          ]
        }
      ],
      "source": [
        "# My Data Story: [yesterday's schedule]\n",
        "# Week 8 Files and Friends\n",
        "\n",
        "# The filename to be analyzed\n",
        "filename = \"my_data.txt\"\n",
        "\n",
        "# Initialize variables for statistics\n",
        "num_lines = 0\n",
        "word_count = 0\n",
        "\n",
        "# --- Read and Display File Contents ---\n",
        "# This code opens the file and reads its content line by line\n",
        "try:\n",
        "    with open(filename, 'r') as file:\n",
        "        print(\"=== MY DATA STORY ===\")\n",
        "        print(\"--- File Contents ---\")\n",
        "        lines = file.readlines()\n",
        "        for line in lines:\n",
        "            print(line.strip())  # .strip() removes leading/trailing whitespace and newlines\n",
        "            num_lines += 1  # Increment the line counter for each line\n",
        "            words = line.split()  # Split the line into a list of words\n",
        "            word_count += len(words) # Add the number of words in the line to the total count\n",
        "\n",
        "except FileNotFoundError:\n",
        "    print(f\"Error: The file '{filename}' was not found. Please make sure it's in the same directory.\")\n",
        "\n",
        "# --- Display File Statistics ---\n",
        "print(\"\\n--- File Statistics ---\")\n",
        "print(f\"Number of lines: {num_lines}\")\n",
        "print(f\"Number of words: {word_count}\")\n",
        "\n",
        "# Remember to add your AI Collaboration and Personal Reflection markdown cells as required by the assignment!"
      ]
    }
  ]
}