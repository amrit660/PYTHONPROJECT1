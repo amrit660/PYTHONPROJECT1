{
  "nbformat": 4,
  "nbformat_minor": 0,
  "metadata": {
    "colab": {
      "provenance": [],
      "authorship_tag": "ABX9TyNhtglS4G7FbMOBh82DcnPj",
      "include_colab_link": true
    },
    "kernelspec": {
      "name": "python3",
      "display_name": "Python 3"
    },
    "language_info": {
      "name": "python"
    }
  },
  "cells": [
    {
      "cell_type": "markdown",
      "metadata": {
        "id": "view-in-github",
        "colab_type": "text"
      },
      "source": [
        "<a href=\"https://colab.research.google.com/github/amrit660/PYTHONPROJECT1/blob/main/process_document.ipynb\" target=\"_parent\"><img src=\"https://colab.research.google.com/assets/colab-badge.svg\" alt=\"Open In Colab\"/></a>"
      ]
    },
    {
      "cell_type": "markdown",
      "source": [
        "1 Weekly Exercise: Show Me Your Process\n",
        "What You Submit: Just Steps 1, 2, and 3 for two problems. NO CODE.\n",
        "\n",
        "This week is about proving you can THINK about a problem before jumping to AI or code.\n",
        "\n",
        "1.1 Problem 1: Tip Calculator\n",
        "1.1.1 The Scenario\n",
        "You work at a Perth restaurant. The manager wants a simple tool where staff can enter: - The bill amount (e.g., $45.80) - The tip percentage (e.g., 15%)\n",
        "\n",
        "And get back: - The tip amount - The total amount to charge\n",
        "\n",
        "1.1.2 What You Must Submit\n",
        "STEP 1: Understand the Problem\n",
        "\n",
        "In your own words, what is this program supposed to do? (2-3 sentences)\n",
        "\n",
        "[This program helps to calculate the total amount quickly by adding bill amount and tip percentage which gives the total amount as a charge]\n",
        "\n",
        "STEP 2: Identify Inputs and Outputs\n",
        "\n",
        "INPUTS: - [bill amount, tip percentage] - [$45.80, 15%]\n",
        "\n",
        "OUTPUTS: - [tip amount, total amount to charge] - [$6.87, $52.67]\n",
        "\n",
        "STEP 3: Work It By Hand\n",
        "\n",
        "Show me you can do this with a calculator. Use this example: - Bill amount: $45.80 - Tip percentage: 15%\n",
        "\n",
        "Write the steps: 1. [$45.80 X 15% =6.87] 2. [45.80 + 6.87] 3. [$52.67] 4. [Tip amount is $6.87, Total amount is $52.67]\n",
        "\n",
        "1.2 Problem 2: Late Fee Calculator\n",
        "1.2.1 The Scenario\n",
        "You work for a library in Perth. Books are due back in 14 days. For every day late, there’s a $0.50 fine (maximum $10.00).\n",
        "\n",
        "The librarian wants a program where they enter: - How many days the book is overdue\n",
        "\n",
        "And get back: - The fine amount (or “Maximum fine reached” if it’s over $10)\n",
        "\n",
        "1.2.2 What You Must Submit\n",
        "STEP 1: Understand the Problem\n",
        "\n",
        "In your own words, what is this program supposed to do? (2-3 sentences)\n",
        "\n",
        "[To calculate the fine for every day book overdue fine and also to get the maximum fine reached to the limit upto $10 ]\n",
        "\n",
        "STEP 2: Identify Inputs and Outputs\n",
        "\n",
        "INPUTS: - [Number of days the book was overdue]\n",
        "\n",
        "OUTPUTS: - [the fine amount] - [if the fine amount exceeds the max limit of $10]\n",
        "\n",
        "STEP 3: Work It By Hand\n",
        "\n",
        "Show me you understand the logic. Calculate these three cases manually:\n",
        "\n",
        "Case A: Book is 5 days late - My calculation: [5days X $0.50] - Fine: [$2.50]\n",
        "\n",
        "Case B: Book is 25 days late - My calculation: [25days X $0.50] - Fine: [$12.50] - Special note: [the calculated fine exceeded the $10 limit]\n",
        "\n",
        "Case C: Book is 0 days late - Fine: [0 days X $0.50 = 0]\n"
      ],
      "metadata": {
        "id": "j3be2aFEcLl5"
      }
    }
  ]
}