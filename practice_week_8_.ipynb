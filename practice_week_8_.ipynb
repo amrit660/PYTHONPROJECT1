{
  "cells": [
    {
      "cell_type": "markdown",
      "metadata": {
        "id": "view-in-github",
        "colab_type": "text"
      },
      "source": [
        "<a href=\"https://colab.research.google.com/github/amrit660/PYTHONPROJECT1/blob/main/practice_week_8_.ipynb\" target=\"_parent\"><img src=\"https://colab.research.google.com/assets/colab-badge.svg\" alt=\"Open In Colab\"/></a>"
      ]
    },
    {
      "cell_type": "raw",
      "metadata": {
        "id": "G2_kpnrXmFRn"
      },
      "source": [
        "---\n",
        "title: \"Week 8: Additional Practice - Building AI Collaboration Skills\"\n",
        "subtitle: \"ISYS2001 Introduction to Business Programming\"\n",
        "author: \"Your Name\"\n",
        "date: \"September 2024\"\n",
        "format:\n",
        "  html:\n",
        "    toc: true\n",
        "    toc-expand: 2\n",
        "    code-fold: false\n",
        "    embed-resources: true\n",
        "---"
      ]
    },
    {
      "cell_type": "markdown",
      "metadata": {
        "id": "OumWPZ5umFRo"
      },
      "source": [
        "# 🎯 Building Confidence with AI-Assisted Data Analysis\n",
        "\n",
        "This notebook provides additional practice exercises to strengthen your AI collaboration skills and build confidence with business data processing. Use these exercises to deepen your understanding before or after the main workshop.\n",
        "\n",
        "**Remember**: The goal isn't to memorize pandas syntax - it's to become effective at directing AI to solve business problems."
      ]
    },
    {
      "cell_type": "markdown",
      "metadata": {
        "id": "n_VsLN_SmFRq"
      },
      "source": [
        "---\n",
        "\n",
        "# Exercise Set 1: Sales Data Analysis 📊\n",
        "\n",
        "## Business Context\n",
        "\n",
        "You're working as a Business Analyst for an office supply company. Your manager has given you sales data and asked for insights to help plan next quarter's inventory and sales strategy.\n",
        "\n",
        "## Data Overview\n",
        "\n",
        "We'll use the `sales_data.csv` file with columns:\n",
        "- **Date**: Sale date\n",
        "- **Product**: Product name\n",
        "- **Quantity**: Units sold\n",
        "- **Unit_Price**: Price per unit (with $ signs)\n",
        "- **Total_Sale**: Total transaction value\n",
        "- **Sales_Rep**: Employee who made the sale\n",
        "- **Region**: Geographic region"
      ]
    },
    {
      "cell_type": "code",
      "metadata": {
        "colab": {
          "base_uri": "https://localhost:8080/"
        },
        "id": "Yz4tn_d0mFRr",
        "outputId": "f8b62cb2-e207-4d80-9879-fc8ba4f969bc"
      },
      "source": [
        "import pandas as pd\n",
        "\n",
        "# Load the sales data\n",
        "sales_df = pd.read_csv('sales_data.csv')\n",
        "\n",
        "# Display first few rows\n",
        "print(\"📋 Sales Data Sample:\")\n",
        "print(\"=\" * 40)\n",
        "print(sales_df.head())\n",
        "print(f\"\\nDataset: {len(sales_df)} transactions across {sales_df['Region'].nunique()} regions\")"
      ],
      "execution_count": 3,
      "outputs": [
        {
          "output_type": "stream",
          "name": "stdout",
          "text": [
            "📋 Sales Data Sample:\n",
            "========================================\n",
            "         Date                      Product Quantity Unit_Price Total_Sale  \\\n",
            "0  2024-08-01  Business Analytics Software       $2   $2499.00   $4998.00   \n",
            "1  2024-08-01     Office Chair - Ergonomic      $15    $299.50   $4492.50   \n",
            "2  2024-08-02                Standing Desk       $8    $599.00   $4792.00   \n",
            "3  2024-08-02      Laptop - Business Grade      $12   $1899.00  $22788.00   \n",
            "4  2024-08-03             Conference Table       $3   $1250.00   $3750.00   \n",
            "\n",
            "       Sales_Rep Region  \n",
            "0     Sarah Chen    NSW  \n",
            "1   Michael Wong    VIC  \n",
            "2  Emma Thompson    QLD  \n",
            "3    David Kumar    NSW  \n",
            "4      Lisa Park     WA  \n",
            "\n",
            "Dataset: 20 transactions across 4 regions\n"
          ]
        }
      ]
    },
    {
      "cell_type": "markdown",
      "metadata": {
        "id": "XstclWwnmFRt"
      },
      "source": [
        "## Practice Exercise 1.1: Sales Performance by Region\n",
        "\n",
        "::: {.callout-tip}\n",
        "## Your AI Collaboration Challenge\n",
        "\n",
        "**Business Question**: \"Which region is performing best, and what's the average sale size by region?\"\n",
        "\n",
        "**Your Task**: Practice prompting AI with this business context. Try creating a prompt that asks for:\n",
        "1. Total sales by region\n",
        "2. Average sale amount by region  \n",
        "3. Number of transactions by region\n",
        "4. Results formatted for a manager presentation\n",
        "\n",
        "**Write your prompt below, then see what AI generates:**\n",
        ":::\n",
        "\n",
        "**Your Prompt:**\n",
        "```\n",
        "[Write your AI prompt here]\n",
        "```\n",
        "\n",
        "**AI Response:**"
      ]
    },
    {
      "cell_type": "code",
      "metadata": {
        "colab": {
          "base_uri": "https://localhost:8080/"
        },
        "id": "G7oXmDIsmFRu",
        "outputId": "f1afbf94-f888-4449-bc53-b50d9fba4b31"
      },
      "source": [
        "# First, clean the Total_Sale column\n",
        "sales_df['Total_Sale'] = sales_df['Total_Sale'].astype(str).str.replace(r'[\\$,]', '', regex=True).astype(float)\n",
        "\n",
        "# Group and aggregate the data\n",
        "regional_performance = sales_df.groupby('Region').agg(\n",
        "    total_sales=('Total_Sale', 'sum'),\n",
        "    average_sale_value=('Total_Sale', 'mean'),\n",
        "    transaction_count=('Total_Sale', 'count')\n",
        ").reset_index()\n",
        "\n",
        "# Rename columns for presentation\n",
        "regional_performance.columns = ['Region', 'Total Sales', 'Average Sale Value', 'Transaction Count']\n",
        "\n",
        "# Sort by Total Sales in descending order\n",
        "regional_performance_sorted = regional_performance.sort_values(by='Total Sales', ascending=False)\n",
        "\n",
        "# Format for manager presentation\n",
        "def currency_format(x):\n",
        "    return f\"str{x:,.2f}\"\n",
        "\n",
        "regional_performance_sorted['Total Sales'] = regional_performance_sorted['Total Sales'].apply(currency_format)\n",
        "regional_performance_sorted['Average Sale Value'] = regional_performance_sorted['Average Sale Value'].apply(currency_format)\n",
        "\n",
        "print(\"💰 Regional Sales Performance Summary:\")\n",
        "print(\"=\" * 40)\n",
        "print(regional_performance_sorted.to_markdown(index=False))"
      ],
      "execution_count": 5,
      "outputs": [
        {
          "output_type": "stream",
          "name": "stdout",
          "text": [
            "💰 Regional Sales Performance Summary:\n",
            "========================================\n",
            "| Region   | Total Sales   | Average Sale Value   |   Transaction Count |\n",
            "|:---------|:--------------|:---------------------|--------------------:|\n",
            "| NSW      | str50,902.75  | str6,362.84          |                   8 |\n",
            "| VIC      | str21,085.50  | str5,271.38          |                   4 |\n",
            "| QLD      | str11,904.30  | str2,976.07          |                   4 |\n",
            "| WA       | str10,049.25  | str2,512.31          |                   4 |\n"
          ]
        }
      ]
    },
    {
      "cell_type": "markdown",
      "metadata": {
        "id": "l2sFwJ1wmFRv"
      },
      "source": [
        "**Your Critique:**\n",
        "- What did AI do well?\n",
        "- What would you ask AI to improve?\n",
        "- Does the output help answer the business question?\n",
        "\n",
        "---\n",
        "\n",
        "## Practice Exercise 1.2: Top Performing Products\n",
        "\n",
        "::: {.callout-tip}\n",
        "## Business Scenario\n",
        "\n",
        "Your inventory manager needs to know which products to stock more of next quarter.\n",
        "\n",
        "**Challenge**: Ask AI to identify the top 5 products by:\n",
        "- Total revenue generated\n",
        "- Total units sold\n",
        "- Which products have the highest profit margins (hint: compare unit price trends)\n",
        "\n",
        "**Practice better prompting**: Be specific about formatting and business context.\n",
        ":::\n",
        "\n",
        "**Your Prompt:**\n",
        "```\n",
        "[Your AI prompt here]\n",
        "```\n",
        "\n",
        "**AI Response:**"
      ]
    },
    {
      "cell_type": "code",
      "metadata": {
        "colab": {
          "base_uri": "https://localhost:8080/"
        },
        "id": "7kWAdgLxmFRv",
        "outputId": "8f749ade-a12f-47c5-90db-1e9a43c98b6a"
      },
      "source": [
        "# 1. Clean and convert 'Unit_Price' (assuming 'Total_Sale' is already cleaned from Ex 1.1)\n",
        "sales_df['Unit_Price_Clean'] = sales_df['Unit_Price'].astype(str).str.replace(r'[\\$,]', '', regex=True).astype(float)\n",
        "\n",
        "# 2. Group and aggregate\n",
        "product_performance = sales_df.groupby('Product').agg(\n",
        "    total_revenue=('Total_Sale', 'sum'),\n",
        "    units_sold=('Quantity', 'sum'),\n",
        "    average_unit_price=('Unit_Price_Clean', 'mean')\n",
        ").reset_index()\n",
        "\n",
        "# 3. Rename columns\n",
        "product_performance.columns = ['Product', 'Total Revenue', 'Units Sold', 'Average Unit Price']\n",
        "\n",
        "# 4. Sort and select top 5\n",
        "top_5_products = product_performance.sort_values(by='Total Revenue', ascending=False).head(5)\n",
        "\n",
        "# 5. Format for presentation\n",
        "top_5_products['Total Revenue'] = top_5_products['Total Revenue'].apply(lambda x: f\"${x:,.2f}\")\n",
        "top_5_products['Average Unit Price'] = top_5_products['Average Unit Price'].apply(lambda x: f\"${x:,.2f}\")\n",
        "\n",
        "print(\"🚀 Top 5 Products for Next Quarter Inventory Planning (By Revenue):\")\n",
        "print(\"=\" * 60)\n",
        "print(top_5_products.to_markdown(index=False))"
      ],
      "execution_count": 6,
      "outputs": [
        {
          "output_type": "stream",
          "name": "stdout",
          "text": [
            "🚀 Top 5 Products for Next Quarter Inventory Planning (By Revenue):\n",
            "============================================================\n",
            "| Product                     | Total Revenue   | Units Sold   | Average Unit Price   |\n",
            "|:----------------------------|:----------------|:-------------|:---------------------|\n",
            "| Laptop - Business Grade     | $22,788.00      | $12          | $1,899.00            |\n",
            "| Whiteboard - Interactive    | $7,596.00       | $4           | $1,899.00            |\n",
            "| Monitor - 27 inch           | $7,002.00       | $18          | $389.00              |\n",
            "| Router - Business Grade     | $4,998.75       | $25          | $199.95              |\n",
            "| Business Analytics Software | $4,998.00       | $2           | $2,499.00            |\n"
          ]
        }
      ]
    },
    {
      "cell_type": "markdown",
      "metadata": {
        "id": "xLT4xOqtmFRw"
      },
      "source": [
        "**Business Insight Questions:**\n",
        "- Which products should the company stock more of?\n",
        "- Are high-price items selling well, or is volume more important?\n",
        "- What would you recommend to the inventory manager?\n",
        "\n",
        "---\n",
        "\n",
        "## Practice Exercise 1.3: Sales Rep Performance\n",
        "\n",
        "::: {.callout-tip}\n",
        "## Management Challenge\n",
        "\n",
        "Your sales manager wants to recognize top performers and identify who might need additional training.\n",
        "\n",
        "**Your Task**: Create prompts that help analyze:\n",
        "1. Which sales reps are generating the most revenue?\n",
        "2. Who has the highest average sale amounts?\n",
        "3. Are there regional patterns in rep performance?\n",
        "4. Format results suitable for a performance review meeting\n",
        ":::\n",
        "\n",
        "**Your Approach:**"
      ]
    },
    {
      "cell_type": "code",
      "metadata": {
        "colab": {
          "base_uri": "https://localhost:8080/"
        },
        "id": "hcb39M3nmFRw",
        "outputId": "0cd20d26-31c8-4f44-ebc1-f380bb113116"
      },
      "source": [
        "import pandas as pd\n",
        "\n",
        "# Define Helper Functions (carried over from previous steps)\n",
        "def clean_currency(series):\n",
        "    # Cleans currency/quantity columns by removing non-numeric chars and converting to float\n",
        "    return pd.to_numeric(series.astype(str).str.replace(r'[\\$,]', '', regex=True), errors='coerce').fillna(0)\n",
        "\n",
        "def currency_format(x):\n",
        "    # Formats numbers with comma separation and two decimal places (with currency symbol)\n",
        "    return f\"${x:,.2f}\"\n",
        "\n",
        "# Load Data and Clean Columns\n",
        "sales_df = pd.read_csv('sales_data.csv')\n",
        "sales_df['Total_Sale'] = clean_currency(sales_df['Total_Sale'])\n",
        "sales_df['Quantity'] = clean_currency(sales_df['Quantity'])\n",
        "\n",
        "\n",
        "# --- Execute the Regional Breakdown ---\n",
        "# Group by Region and Sales_Rep, sum Total_Sale, and pivot (unstack) the Sales_Rep column\n",
        "regional_sales_breakdown = sales_df.groupby(['Region', 'Sales_Rep'])['Total_Sale'].sum().unstack(fill_value=0)\n",
        "\n",
        "# Format the values in the pivot table using the currency format\n",
        "for col in regional_sales_breakdown.columns:\n",
        "    regional_sales_breakdown[col] = regional_sales_breakdown[col].apply(currency_format)\n",
        "\n",
        "regional_sales_breakdown.index.name = 'Region'\n",
        "\n",
        "print(\"🗺️ SALES REPRESENTATIVE REGIONAL BREAKDOWN (Total Revenue by Region):\")\n",
        "print(\"=\" * 70)\n",
        "print(regional_sales_breakdown.to_markdown())"
      ],
      "execution_count": 8,
      "outputs": [
        {
          "output_type": "stream",
          "name": "stdout",
          "text": [
            "🗺️ SALES REPRESENTATIVE REGIONAL BREAKDOWN (Total Revenue by Region):\n",
            "======================================================================\n",
            "| Region   | David Kumar   | Emma Thompson   | Lisa Park   | Michael Wong   | Sarah Chen   |\n",
            "|:---------|:--------------|:----------------|:------------|:---------------|:-------------|\n",
            "| NSW      | $32,506.50    | $0.00           | $0.00       | $0.00          | $18,396.25   |\n",
            "| QLD      | $0.00         | $11,904.30      | $0.00       | $0.00          | $0.00        |\n",
            "| VIC      | $0.00         | $0.00           | $0.00       | $21,085.50     | $0.00        |\n",
            "| WA       | $0.00         | $0.00           | $10,049.25  | $0.00          | $0.00        |\n"
          ]
        }
      ]
    },
    {
      "cell_type": "markdown",
      "metadata": {
        "id": "TitztnnwmFRx"
      },
      "source": [
        "---\n",
        "\n",
        "# Exercise Set 2: Financial Transaction Patterns 💳\n",
        "\n",
        "## Advanced Analysis Practice\n",
        "\n",
        "Using the original transactions data, practice more sophisticated AI collaboration."
      ]
    },
    {
      "cell_type": "code",
      "metadata": {
        "id": "hmcBOt4YmFRx"
      },
      "source": [
        "# Reload transaction data for advanced practice\n",
        "transactions_df = pd.read_csv('../data/transactions.csv')\n",
        "print(\"Transaction data loaded for advanced practice\")"
      ],
      "execution_count": null,
      "outputs": []
    },
    {
      "cell_type": "markdown",
      "metadata": {
        "id": "r1hEgz2lmFRy"
      },
      "source": [
        "## Practice Exercise 2.1: Spending Trend Analysis\n",
        "\n",
        "::: {.callout-tip}\n",
        "## Business Context\n",
        "\n",
        "You're helping a friend understand their spending habits over time.\n",
        "\n",
        "**Challenge**: Ask AI to help you:\n",
        "1. Convert dates to datetime format\n",
        "2. Analyze spending trends by day of week\n",
        "3. Identify if spending has increased over time\n",
        "4. Spot any unusual spending patterns\n",
        "\n",
        "**Focus**: Practice asking AI to explain any complex date handling code it provides.\n",
        ":::\n",
        "\n",
        "**Your Analysis:**"
      ]
    },
    {
      "cell_type": "code",
      "metadata": {
        "colab": {
          "base_uri": "https://localhost:8080/",
          "height": 106
        },
        "id": "6DOnf2lSmFRy",
        "outputId": "d0cbbc1f-a069-4045-e095-fa7e903bf631"
      },
      "source": [
        "import pandas as pd\n",
        "\n",
        "# Define Helper Functions\n",
        "def clean_amount(series):\n",
        "    \"\"\"Cleans financial amounts, handling dollar signs, commas, and negative signs, and converts to float.\"\"\"\n",
        "    # Step 1: Convert to string and remove common symbols except the negative sign\n",
        "    s = series.astype(str)(str', '', regex=True)\n",
        "\n",
        "    # Step 2: Handle cases where the negative sign is not at the front (e.g., '25.00-')\n",
        "    def handle_negative(x):\n",
        "        if isinstance(x, str) and x.endswith('-'):\n",
        "            return '-' + x[:-1]\n",
        "        return x\n",
        "    s = s.apply(handle_negative)\n",
        "\n",
        "    # Step 3: Convert to numeric, coercing errors to NaN and filling NaN with 0\n",
        "    return pd.to_numeric(s, errors='coerce').fillna(0)\n",
        "\n",
        "def currency_format(x):\n",
        "    \"\"\"Formats numbers with comma separation and two decimal places (with currency symbol).\"\"\"\n",
        "    return f\"str{x:,.2f}\"\n",
        "\n",
        "# 1. Load Data\n",
        "transactions_df = pd.read_csv('transactions.csv')\n",
        "\n",
        "# 2. Clean the 'Amount' column\n",
        "transactions_df['Amount_Cleaned'] = clean_amount(transactions_df['Amount'])\n",
        "\n",
        "# 3. Group and Aggregate\n",
        "category_spending = transactions_df.groupby('Category').agg(\n",
        "    Total_Net_Amount=('Amount_Cleaned', 'sum'),\n",
        "    Transaction_Count=('Amount_Cleaned', 'count'),\n",
        "    Avg_Transaction_Size=('Amount_Cleaned', 'mean')\n",
        ").reset_index()\n",
        "\n",
        "# 4. Rename and Sort\n",
        "category_spending.columns = ['Category', 'Total Net Amount', 'Transaction Count', 'Avg Transaction Size']\n",
        "category_spending_sorted = category_spending.sort_values(by='Total Net Amount', ascending=False)\n",
        "\n",
        "# 5. Format Output\n",
        "category_spending_sorted['Total Net Amount'] = category_spending_sorted['Total Net Amount'].apply(currency_format)\n",
        "category_spending_sorted['Avg Transaction Size'] = category_spending_sorted['Avg Transaction Size'].apply(currency_format)\n",
        "\n",
        "print(\"💰 Category Spending Analysis:\")\n",
        "print(\"=\" * 60)\n",
        "print(category_spending_sorted.to_markdown(index=False))"
      ],
      "execution_count": 12,
      "outputs": [
        {
          "output_type": "error",
          "ename": "SyntaxError",
          "evalue": "unterminated string literal (detected at line 7) (ipython-input-2751276300.py, line 7)",
          "traceback": [
            "\u001b[0;36m  File \u001b[0;32m\"/tmp/ipython-input-2751276300.py\"\u001b[0;36m, line \u001b[0;32m7\u001b[0m\n\u001b[0;31m    s = series.astype(str)(str', '', regex=True)\u001b[0m\n\u001b[0m                                  ^\u001b[0m\n\u001b[0;31mSyntaxError\u001b[0m\u001b[0;31m:\u001b[0m unterminated string literal (detected at line 7)\n"
          ]
        }
      ]
    },
    {
      "cell_type": "markdown",
      "metadata": {
        "id": "gt4n9T60mFRy"
      },
      "source": [
        "## Practice Exercise 2.2: Budget Category Analysis\n",
        "\n",
        "::: {.callout-tip}\n",
        "## Personal Finance Scenario\n",
        "\n",
        "Someone wants to set a realistic monthly budget based on their spending history.\n",
        "\n",
        "**Challenge**: Use AI to help:\n",
        "1. Calculate average monthly spending by category\n",
        "2. Identify categories with high variation (inconsistent spending)\n",
        "3. Suggest realistic budget amounts for each category\n",
        "4. Find categories where spending might be reduced\n",
        "\n",
        "**Advanced**: Ask AI to explain the statistical concepts it uses.\n",
        ":::\n",
        "\n",
        "**Your Budget Analysis:**"
      ]
    },
    {
      "cell_type": "code",
      "metadata": {
        "id": "wRDpn0dkmFRy"
      },
      "source": [
        "# AI-assisted budget recommendation code"
      ],
      "execution_count": null,
      "outputs": []
    },
    {
      "cell_type": "markdown",
      "metadata": {
        "id": "tBllKTCtmFRz"
      },
      "source": [
        "---\n",
        "\n",
        "# Exercise Set 3: AI Critique Practice 🤔\n",
        "\n",
        "## Common AI Code Issues\n",
        "\n",
        "Below are examples of AI-generated code with issues. Practice your critique skills!\n",
        "\n",
        "### Critique Exercise 1: Overly Complex Code\n",
        "\n",
        "```python\n",
        "# AI generated this code - what's wrong with it?\n",
        "import pandas as pd\n",
        "import numpy as np\n",
        "from datetime import datetime\n",
        "\n",
        "def complex_analysis(data):\n",
        "    result = data.groupby([pd.Grouper(key='Date', freq='M'), 'Category']).agg({\n",
        "        'Amount': [lambda x: pd.to_numeric(x.str.replace('$', ''), errors='coerce').sum(),\n",
        "                   lambda x: pd.to_numeric(x.str.replace('$', ''), errors='coerce').mean(),\n",
        "                   lambda x: pd.to_numeric(x.str.replace('$', ''), errors='coerce').std()]\n",
        "    }).reset_index()\n",
        "    \n",
        "    result.columns = ['_'.join(col).strip() for col in result.columns.values]\n",
        "    return result.fillna(0).round(2)\n",
        "\n",
        "# Complex usage\n",
        "df['Date'] = pd.to_datetime(df['Date'])\n",
        "complex_result = complex_analysis(transactions_df)\n",
        "print(complex_result.head())\n",
        "```\n",
        "\n",
        "**Your Critique:**\n",
        "\n",
        "::: {.callout-warning}\n",
        "## Issues to Identify\n",
        "\n",
        "1. What makes this code hard to understand?\n",
        "2. What would you ask AI to simplify?\n",
        "3. How would you request a clearer version?\n",
        "\n",
        "**Write your critique prompt:**\n",
        ":::\n",
        "\n",
        "```\n",
        "[Your critique prompt to AI]\n",
        "```\n",
        "\n",
        "### Critique Exercise 2: Poor Business Context\n",
        "\n",
        "```python\n",
        "# AI code that works but lacks business insight\n",
        "df_grouped = df.groupby('cat')['amt'].sum().sort_values()\n",
        "print(df_grouped)\n",
        "```\n",
        "\n",
        "**Problems:**\n",
        "- Unclear column references\n",
        "- No business explanation\n",
        "- Poor formatting\n",
        "- No context for results\n",
        "\n",
        "**Your Improvement Prompt:**\n",
        "```\n",
        "[How would you ask AI to make this more business-appropriate?]\n",
        "```\n",
        "\n",
        "---\n",
        "\n",
        "# Exercise Set 4: Real-World Business Scenarios 🏢\n",
        "\n",
        "## Scenario 1: Retail Store Analysis\n",
        "\n",
        "::: {.callout-note}\n",
        "## Business Context\n",
        "\n",
        "You're analyzing sales data for a small retail chain. They want to know:\n",
        "- Which stores need more inventory\n",
        "- What products to discontinue\n",
        "- When to schedule promotional campaigns\n",
        "- How to allocate sales staff\n",
        "\n",
        "**Data**: Use the sales_data.csv but imagine it represents different store locations instead of regions.\n",
        ":::\n",
        "\n",
        "**Your Business Analysis:**"
      ]
    },
    {
      "cell_type": "code",
      "metadata": {
        "id": "kRjhzZkrmFRz"
      },
      "source": [
        "# Practice comprehensive business analysis with AI assistance\n",
        "# Focus on actionable insights, not just data summaries"
      ],
      "execution_count": null,
      "outputs": []
    },
    {
      "cell_type": "markdown",
      "metadata": {
        "id": "yckBX6TEmFRz"
      },
      "source": [
        "## Scenario 2: Personal Finance Coaching\n",
        "\n",
        "::: {.callout-note}\n",
        "## Business Context\n",
        "\n",
        "You're building a personal finance app feature that provides spending advice.\n",
        "\n",
        "**Challenge**: Use AI to create code that:\n",
        "1. Identifies spending categories that are above typical percentages\n",
        "2. Suggests specific areas for potential savings\n",
        "3. Provides encouraging feedback for good spending habits\n",
        "4. Formats advice in a user-friendly way\n",
        ":::\n",
        "\n",
        "**Your Coaching Algorithm:**"
      ]
    },
    {
      "cell_type": "code",
      "metadata": {
        "id": "KVAk0Q20mFRz"
      },
      "source": [
        "# AI-assisted personal finance advice generation"
      ],
      "execution_count": null,
      "outputs": []
    },
    {
      "cell_type": "markdown",
      "metadata": {
        "id": "DYQyiYr2mFR0"
      },
      "source": [
        "---\n",
        "\n",
        "# Self-Assessment Checklist ✅\n",
        "\n",
        "After completing these exercises, evaluate your AI collaboration skills:\n",
        "\n",
        "## AI Prompting Skills\n",
        "- ☐ I can write prompts that include business context\n",
        "- ☐ I specify desired output format and structure  \n",
        "- ☐ I ask follow-up questions to improve AI responses\n",
        "- ☐ I can request explanations of complex code\n",
        "\n",
        "## Code Critique Skills\n",
        "- ☐ I can identify when AI code is too complex\n",
        "- ☐ I recognize when variable names need improvement\n",
        "- ☐ I spot when business context is missing\n",
        "- ☐ I ask for clearer, more maintainable solutions\n",
        "\n",
        "## Business Application Skills  \n",
        "- ☐ I connect data analysis to real business decisions\n",
        "- ☐ I can explain technical results in business terms\n",
        "- ☐ I consider edge cases and data quality issues\n",
        "- ☐ I format results for business presentation\n",
        "\n",
        "## Learning Documentation\n",
        "- ☐ I document what I learned from each AI interaction\n",
        "- ☐ I record effective prompts for future use\n",
        "- ☐ I note when AI explanations helped my understanding\n",
        "- ☐ I reflect on how to improve my collaboration\n",
        "\n",
        "---\n",
        "\n",
        "# Reflection Questions 🤔\n",
        "\n",
        "Before finishing your practice session, consider:\n",
        "\n",
        "1. **Which AI interactions were most helpful for your learning?**\n",
        "2. **What types of prompts got you the best code explanations?**\n",
        "3. **When did you successfully critique and improve AI responses?**\n",
        "4. **How has your confidence with business data analysis changed?**\n",
        "5. **What AI collaboration strategies will you use in your assignment?**\n",
        "\n",
        "---\n",
        "\n",
        "# Next Steps 🚀\n",
        "\n",
        "**For Your Assignment:**\n",
        "- Apply these prompting techniques to your Smart Finance Assistant\n",
        "- Use the critique skills to ensure your code is business-appropriate\n",
        "- Document successful AI interactions in your Developer's Diary\n",
        "- Build on the confidence you've gained with these practice exercises\n",
        "\n",
        "**Remember**: You're not trying to become a pandas expert overnight. You're becoming skilled at directing AI to solve business problems efficiently and effectively.\n",
        "\n",
        "**Great practice work! These skills will serve you well throughout your Smart Finance Assistant project and in your future career! 🎉**"
      ]
    }
  ],
  "metadata": {
    "kernelspec": {
      "display_name": "Python 3",
      "language": "python",
      "name": "python3"
    },
    "colab": {
      "provenance": [],
      "include_colab_link": true
    }
  },
  "nbformat": 4,
  "nbformat_minor": 0
}